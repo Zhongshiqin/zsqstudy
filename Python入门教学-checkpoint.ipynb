{
 "cells": [
  {
   "cell_type": "code",
   "execution_count": 1,
   "metadata": {},
   "outputs": [
    {
     "name": "stdout",
     "output_type": "stream",
     "text": [
      "hello world\n"
     ]
    }
   ],
   "source": [
    "print('hello world')"
   ]
  },
  {
   "cell_type": "code",
   "execution_count": 2,
   "metadata": {},
   "outputs": [
    {
     "name": "stdout",
     "output_type": "stream",
     "text": [
      "ABC\n",
      "1\n"
     ]
    }
   ],
   "source": [
    "a='ABC'\n",
    "print(a)\n",
    "b=1\n",
    "print(b)"
   ]
  },
  {
   "cell_type": "code",
   "execution_count": 3,
   "metadata": {},
   "outputs": [
    {
     "name": "stdout",
     "output_type": "stream",
     "text": [
      "10.5\n",
      "9.5\n",
      "5.0\n",
      "20.0\n"
     ]
    }
   ],
   "source": [
    "num1=10 ;num2=0.5;print(num1+num2);print(num1-num2);print(num1*num2);print(num1/num2)"
   ]
  },
  {
   "cell_type": "code",
   "execution_count": 4,
   "metadata": {},
   "outputs": [
    {
     "name": "stdout",
     "output_type": "stream",
     "text": [
      "3.1415926\n"
     ]
    }
   ],
   "source": [
    "print(3.1415926)"
   ]
  },
  {
   "cell_type": "code",
   "execution_count": 5,
   "metadata": {},
   "outputs": [
    {
     "name": "stdout",
     "output_type": "stream",
     "text": [
      "3.3333333333333335\n"
     ]
    }
   ],
   "source": [
    "num1=10;num2=3;print(num1/num2)"
   ]
  },
  {
   "cell_type": "code",
   "execution_count": 6,
   "metadata": {},
   "outputs": [
    {
     "name": "stdout",
     "output_type": "stream",
     "text": [
      "1\n",
      "3\n",
      "0\n"
     ]
    }
   ],
   "source": [
    "# \"%\"取模\n",
    "print(3%2);print(14%11);print(100%2)"
   ]
  },
  {
   "cell_type": "code",
   "execution_count": 7,
   "metadata": {},
   "outputs": [
    {
     "name": "stdout",
     "output_type": "stream",
     "text": [
      "0\n",
      "2\n",
      "3\n"
     ]
    }
   ],
   "source": [
    "# \"//\"地板除，得到的结果忽略纯小数的部分\n",
    "print(1//2);print(28//11);print(6//2)"
   ]
  },
  {
   "cell_type": "code",
   "execution_count": 8,
   "metadata": {},
   "outputs": [
    {
     "name": "stdout",
     "output_type": "stream",
     "text": [
      "80.23\n",
      "4.93\n"
     ]
    }
   ],
   "source": [
    "# round(a,b),a是数值，b是保留小数点位数\n",
    "print (round(80.23456, 2))\n",
    "#长方形长3.14cm,宽1.57cm计算长方形的面积，保留小数点后两位\n",
    "num1=3.14;num2=1.57;print(round(num1*num2,2))"
   ]
  },
  {
   "cell_type": "code",
   "execution_count": 9,
   "metadata": {},
   "outputs": [
    {
     "name": "stdout",
     "output_type": "stream",
     "text": [
      "hello python\n",
      "hello world\n"
     ]
    }
   ],
   "source": [
    "#布尔类型“and”与运算；“or”或运算；“not”非运算，not运算级优于and or,  not false=true,not true=false;\n",
    "#python把0、空字符串和none堪称false,其他数值和非空字符串都看成true\n",
    "a='python';print('hello',a or 'world')\n",
    "b='';print('hello',b or 'world')"
   ]
  },
  {
   "cell_type": "code",
   "execution_count": 10,
   "metadata": {},
   "outputs": [
    {
     "name": "stdout",
     "output_type": "stream",
     "text": [
      "learn \"python\" in this time\n",
      "i'm good\n",
      "special string:','',\\,\\\\,\\n,\\t\n",
      "\\(~-~)/\n",
      "''to be,or not to be'':that is the question.whether it's nobleer in mind tosuffer.\n",
      "hello world\n",
      "hello world,hello python\n",
      "hello python,hello world\n",
      "''这是一句中英文混合的python字符串： hello world!''\n",
      "ABCD\n",
      "ABC\n"
     ]
    }
   ],
   "source": [
    "#字符串可以用''或者'' ''表示,\\转义符，\\n换行，\\t表示制表符，\\\\表示\\本身\n",
    "print('learn \"python\" in this time')\n",
    "print(\"i'm good\")\n",
    "s='special string:\\',\\'\\',\\\\,\\\\\\\\,\\\\n,\\\\t';print(s)\n",
    "print(r'\\(~-~)/')#row字符串里面不需要转义\n",
    "print(r'''''to be,or not to be'':that is the question.whether it's nobleer in mind tosuffer.''''')\n",
    "#format()与{}映射\n",
    "print('hello {}'.format('world'))\n",
    "print('hello {0},hello {1}'.format('world','python'))#{}得从0开始\n",
    "print('hello {1},hello {0}'.format('world','python'))\n",
    "s1='\\'\\'这是一句中英文混合的python字符串：'\n",
    "s2='hello world!\\'\\'';\n",
    "print(s1,s2)\n",
    "s='ABCDEFGHIJK'\n",
    "abcd=s[0:4];print(abcd)#取字符串第一个到第五个字符不包括第五个\n",
    "print(s[0:3])"
   ]
  },
  {
   "cell_type": "code",
   "execution_count": 18,
   "metadata": {},
   "outputs": [
    {
     "name": "stdout",
     "output_type": "stream",
     "text": [
      "输入一个数字：4\n",
      "children\n"
     ]
    }
   ],
   "source": [
    "#if语句\n",
    "age=float(input(\"输入一个数字：\"))\n",
    "if age>=18:\n",
    "    print('adult')\n",
    "else:\n",
    "    print('children')"
   ]
  },
  {
   "cell_type": "code",
   "execution_count": 17,
   "metadata": {},
   "outputs": [
    {
     "name": "stdout",
     "output_type": "stream",
     "text": [
      "平均成绩是：78.60\n"
     ]
    }
   ],
   "source": [
    "#for\n",
    "L=[75,92,59,68,99]\n",
    "a=0.0;\n",
    "for x in L:\n",
    "    a=a+x\n",
    "print(\"平均成绩是：%3.2f\"%(a/5))"
   ]
  },
  {
   "cell_type": "code",
   "execution_count": 13,
   "metadata": {},
   "outputs": [
    {
     "name": "stdout",
     "output_type": "stream",
     "text": [
      "输入年龄：2\n",
      "baby\n"
     ]
    }
   ],
   "source": [
    "#elif就是else if\n",
    "age=float(input(\"输入年龄：\"))\n",
    "if age>=18:\n",
    "    print('adult')\n",
    "elif age>=6:\n",
    "    print('teenager')\n",
    "elif age>=3:\n",
    "    print('kid')\n",
    "else:\n",
    "    print('baby')"
   ]
  },
  {
   "cell_type": "code",
   "execution_count": 14,
   "metadata": {},
   "outputs": [
    {
     "name": "stdout",
     "output_type": "stream",
     "text": [
      "---RUNOOB EXAMPLE ： Loading 效果---\n",
      "Loading...................."
     ]
    }
   ],
   "source": [
    "import time\n",
    "\n",
    "print(\"---RUNOOB EXAMPLE ： Loading 效果---\")\n",
    "\n",
    "print(\"Loading\",end = \"\")\n",
    "for i in range(20):\n",
    "    print(\".\",end = '',flush = True)\n",
    "    time.sleep(0.5)"
   ]
  },
  {
   "cell_type": "code",
   "execution_count": 21,
   "metadata": {},
   "outputs": [
    {
     "name": "stdout",
     "output_type": "stream",
     "text": [
      "3628800\n"
     ]
    }
   ],
   "source": [
    "#while 1到10的乘积\n",
    "num=1;chengji=1;\n",
    "while num<10:\n",
    "    num=num+1;\n",
    "    chengji=chengji*num\n",
    "print(chengji)\n"
   ]
  },
  {
   "cell_type": "code",
   "execution_count": 7,
   "metadata": {},
   "outputs": [
    {
     "name": "stdout",
     "output_type": "stream",
     "text": [
      "250500\n"
     ]
    }
   ],
   "source": [
    "#0~100内所有偶数的和\n",
    "sum=0\n",
    "for i in range(0,1001,2):\n",
    "    sum+=i\n",
    "print(sum)"
   ]
  },
  {
   "cell_type": "code",
   "execution_count": 2,
   "metadata": {},
   "outputs": [
    {
     "name": "stdout",
     "output_type": "stream",
     "text": [
      "2500\n"
     ]
    }
   ],
   "source": [
    "sum = 0                                    #初始化变量sum，用来放和\n",
    "for i in range(1,100,2):                #使用for循环，从1开始，每隔数2跳一次，只循环奇数1,3,5,7......\n",
    "    sum += i                                #把每次取出来的奇数相加\n",
    "print(sum)  "
   ]
  },
  {
   "cell_type": "code",
   "execution_count": 6,
   "metadata": {},
   "outputs": [
    {
     "name": "stdout",
     "output_type": "stream",
     "text": [
      "250500\n"
     ]
    }
   ],
   "source": [
    "num=0;sum=0;\n",
    "while num<=1000:\n",
    "    num=num+1\n",
    "    if num%2==1:\n",
    "        continue\n",
    "    sum=sum+num;\n",
    "print(sum)"
   ]
  },
  {
   "cell_type": "code",
   "execution_count": 21,
   "metadata": {},
   "outputs": [
    {
     "name": "stdout",
     "output_type": "stream",
     "text": [
      "ABC123\n",
      "A1x\n",
      "A1y\n",
      "A1z\n",
      "A2x\n",
      "A2y\n",
      "A2z\n",
      "A3x\n",
      "A3y\n",
      "A3z\n",
      "B1x\n",
      "B1y\n",
      "B1z\n",
      "B2x\n",
      "B2y\n",
      "B2z\n",
      "B3x\n",
      "B3y\n",
      "B3z\n",
      "C1x\n",
      "C1y\n",
      "C1z\n",
      "C2x\n",
      "C2y\n",
      "C2z\n",
      "C3x\n",
      "C3y\n",
      "C3z\n"
     ]
    }
   ],
   "source": [
    "s1='ABC';s2='123';print(s1+s2)\n",
    "s3='xyz'\n",
    "for ch1 in s1:\n",
    "    for ch2 in s2:\n",
    "        for ch3 in s3:\n",
    "            print(ch1+ch2+ch3)"
   ]
  },
  {
   "cell_type": "code",
   "execution_count": 11,
   "metadata": {},
   "outputs": [
    {
     "name": "stdout",
     "output_type": "stream",
     "text": [
      "['语文', 92, '数学', 75, '英语', 99]\n",
      "语文\n",
      "92\n",
      "99\n",
      "语文\n"
     ]
    }
   ],
   "source": [
    "#list可以同时放入任意类型的数据\n",
    "L=['语文',92,'数学',75,'英语',99]\n",
    "print(L)\n",
    "print(L[0]);print(L[1]);print(L[-1]);print(L[-6])"
   ]
  },
  {
   "cell_type": "code",
   "execution_count": 6,
   "metadata": {},
   "outputs": [
    {
     "name": "stdout",
     "output_type": "stream",
     "text": [
      "Alice\n",
      "Bob\n",
      "False\n"
     ]
    }
   ],
   "source": [
    "L=['Alice',66,'Bob',True,'False',100]\n",
    "num=0;\n",
    "for ch in L:\n",
    "    num=num+1;\n",
    "    if num%2!=0:\n",
    "        continue\n",
    "    print(ch)"
   ]
  },
  {
   "cell_type": "code",
   "execution_count": 16,
   "metadata": {},
   "outputs": [
    {
     "name": "stdout",
     "output_type": "stream",
     "text": [
      "['Alice', 'Bob', 'Candy', 'David', 'Ellena', 'Gen', 'Phoebe', 'Zero']\n",
      "['Alice', 'Bob', 'Candy', 'David', 'Ellena', 'Gen', 'Phoebe', 'Zero', 'Gen', 'Phoebe', 'Zero']\n"
     ]
    }
   ],
   "source": [
    "#append()将元素添加到list尾部，insert(a,b)a显示插入的位置，b是插入的元素\n",
    "L1=['Alice','Bob','Candy','David','Ellena'];L2=L1;\n",
    "L1.append('Gen');L1.append('Phoebe');L1.append('Zero')\n",
    "print(L1)\n",
    "L2.insert(5,'Gen');L2.insert(6,'Phoebe');L2.insert(7,'Zero')\n",
    "print(L2)"
   ]
  },
  {
   "cell_type": "code",
   "execution_count": 17,
   "metadata": {},
   "outputs": [
    {
     "name": "stdout",
     "output_type": "stream",
     "text": [
      "['Alice', 'Bob', 'Ellena']\n"
     ]
    }
   ],
   "source": [
    "#pop()删除列表最后一个元素并返回；pop()还可以及接受一个参数，删除指定位置\n",
    "L1=['Alice','Bob','Candy','David','Ellena'];\n",
    "L1.pop(2);L1.pop(2);print(L1)"
   ]
  },
  {
   "cell_type": "code",
   "execution_count": 18,
   "metadata": {},
   "outputs": [
    {
     "name": "stdout",
     "output_type": "stream",
     "text": [
      "['Ellena', 'Alice', 'Candy', 'David', 'Bob']\n"
     ]
    }
   ],
   "source": [
    "#list中元素替换\n",
    "L=['Alice','Bob','Candy','David','Ellena'];\n",
    "L[0]='Ellena';L[1]='Alice';L[4]='Bob';print(L)"
   ]
  },
  {
   "cell_type": "code",
   "execution_count": 25,
   "metadata": {},
   "outputs": [
    {
     "name": "stdout",
     "output_type": "stream",
     "text": [
      "1 2 3\n",
      "22\n",
      "5 3 2\n",
      "62\n",
      "7 3 2\n",
      "82\n"
     ]
    }
   ],
   "source": [
    "L=[[1,2,3],[5,3,2],[7,3,2]]\n",
    "for cube in L:\n",
    "    Lengh=cube[0];Width=cube[1];Hight=cube[2];print(Lengh,Width,Hight)\n",
    "    print(2*(Lengh*Width+Lengh*Hight+Width*Hight))"
   ]
  },
  {
   "cell_type": "code",
   "execution_count": 30,
   "metadata": {},
   "outputs": [
    {
     "name": "stdout",
     "output_type": "stream",
     "text": [
      "(0, 1, 2, 3, 4, 5, 6, 7, 8, 9)\n",
      "[0, 1, 2, 3, 4, 5, 6, 7, 8, 9]\n",
      "()\n"
     ]
    }
   ],
   "source": [
    "#tuple元组用()表示，list用[]表示；tuple和list不同。tuple固定不变，不能添加元素也不可以改变元素，但是list可以；list和tuple可以相互转换\n",
    "a=(0,1,2,3,4,5,6,7,8,9)\n",
    "print(a)\n",
    "b=list(a)\n",
    "print(b)\n",
    "c=()\n",
    "print(c)"
   ]
  },
  {
   "cell_type": "code",
   "execution_count": 29,
   "metadata": {},
   "outputs": [
    {
     "data": {
      "text/plain": [
       "6"
      ]
     },
     "execution_count": 29,
     "metadata": {},
     "output_type": "execute_result"
    }
   ],
   "source": [
    "#count()统计某个元素出现次数；index()返回指定元素的下标，当一个元素重复出现时，返回第一次出现的位置\n",
    "a=(100,69,29,100,72,99,98,100,75,100,100,42,88,100)\n",
    "a.count(100)"
   ]
  },
  {
   "cell_type": "code",
   "execution_count": 49,
   "metadata": {},
   "outputs": [
    {
     "name": "stdout",
     "output_type": "stream",
     "text": [
      "45\n",
      "60\n",
      "None\n",
      "{'Alice': 45, 'Bob': 60, 'Candy': 75, 'David': 86, 'Ellena': 49, 'Anne': 72, 'Tracy': [100, 99, [81, 18]]}\n",
      "45\n",
      "{'Bob': 60, 'Candy': 75, 'David': 86, 'Ellena': 49, 'Anne': 72, 'Tracy': [100, 99, [81, 18]]}\n",
      "Alice不在d里面\n",
      "Alice [50, 61, 66]\n",
      "Bob [80, 61, 66]\n",
      "Candy [88, 22, 33]\n",
      "{}\n",
      "0\n",
      "3\n"
     ]
    }
   ],
   "source": [
    "#dict用{}表示，其中包含key和value，两者一一对应，key:value,；也可以用dict()表示\n",
    "#dict通过d[key]查找对应的value但是当key不存在会报错，或者通过get(key)，当key不存在返回none\n",
    "d={'Alice':45,'Bob':60,'Candy':75,'David':86,'Ellena':49}\n",
    "print(d['Alice'])\n",
    "print(d.get('Bob'))\n",
    "print(d.get('Tracy'))\n",
    "d['Anne']=72;d['Tracy']=[100,99];\n",
    "d['Tracy'].append([81,18])\n",
    "print(d);\n",
    "c=d.pop('Alice')#pop()删除指定元素的key，并返回对应value\n",
    "print(c)\n",
    "print(d)\n",
    "if  'Alice' in d.keys():#keys()返回所有key\n",
    "    d.pop('Alice')\n",
    "else:\n",
    "    print('{}不在d里面'.format('Alice'))\n",
    "#items()返回dict中所有的元素（key和value），tuple可以做dict的key,但是list不可以\n",
    "a={'Alice':[50,61,66],'Bob':[80,61,66],'Candy':[88,22,33]}\n",
    "for key,value in a.items():\n",
    "    print(key,value)\n",
    "#clear()可以清除dict中所有元素\n",
    "b=d;\n",
    "b.clear();\n",
    "print(b);print(len(b));\n"
   ]
  },
  {
   "cell_type": "code",
   "execution_count": 53,
   "metadata": {},
   "outputs": [
    {
     "name": "stdout",
     "output_type": "stream",
     "text": [
      "{'David', 'Ellena', 'Bob', 'Alice', 'Candy'}\n"
     ]
    },
    {
     "data": {
      "text/plain": [
       "True"
      ]
     },
     "execution_count": 53,
     "metadata": {},
     "output_type": "execute_result"
    }
   ],
   "source": [
    "#set()不能包含重复的元素，且顺序是没有顺序\n",
    "s=set(['Alice','Bob','Candy','David','Ellena'])\n",
    "print(s)\n",
    "'Alice' in s"
   ]
  },
  {
   "cell_type": "code",
   "execution_count": null,
   "metadata": {},
   "outputs": [],
   "source": []
  }
 ],
 "metadata": {
  "kernelspec": {
   "display_name": "Python 3",
   "language": "python",
   "name": "python3"
  },
  "language_info": {
   "codemirror_mode": {
    "name": "ipython",
    "version": 3
   },
   "file_extension": ".py",
   "mimetype": "text/x-python",
   "name": "python",
   "nbconvert_exporter": "python",
   "pygments_lexer": "ipython3",
   "version": "3.7.4"
  }
 },
 "nbformat": 4,
 "nbformat_minor": 2
}
